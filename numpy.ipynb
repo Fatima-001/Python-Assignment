{
 "cells": [
  {
   "cell_type": "code",
   "execution_count": 3,
   "id": "65e8757c-30d3-486b-8d70-d599c12d1165",
   "metadata": {},
   "outputs": [
    {
     "name": "stdout",
     "output_type": "stream",
     "text": [
      "2\n",
      "(2, 4)\n"
     ]
    }
   ],
   "source": [
    "import numpy as np\n",
    "\n",
    "data = [[1, 6, 7, 9], [5, 4, 2, 8]]\n",
    "arr2 = np.array(data)\n",
    "print(arr2.ndim) \n",
    "print(arr2.shape)  \n"
   ]
  },
  {
   "cell_type": "code",
   "execution_count": 4,
   "id": "90e62527-96bf-41e1-8ef1-78b75bcfd51d",
   "metadata": {},
   "outputs": [],
   "source": [
    "array = np.array([[0,1,0],[7,3,9]])"
   ]
  },
  {
   "cell_type": "code",
   "execution_count": 5,
   "id": "8d94b273-2901-49a1-ad78-9aebde0e02dd",
   "metadata": {},
   "outputs": [
    {
     "data": {
      "text/plain": [
       "array([[0, 1, 0],\n",
       "       [7, 3, 9]])"
      ]
     },
     "execution_count": 5,
     "metadata": {},
     "output_type": "execute_result"
    }
   ],
   "source": [
    "array"
   ]
  },
  {
   "cell_type": "code",
   "execution_count": 6,
   "id": "83cf04fb-c5ed-471b-b63f-6e633d15d482",
   "metadata": {},
   "outputs": [],
   "source": [
    "array = np.eye(4)"
   ]
  },
  {
   "cell_type": "code",
   "execution_count": 7,
   "id": "4a56984c-7be9-4d33-9e24-6fa5607abf3e",
   "metadata": {},
   "outputs": [
    {
     "data": {
      "text/plain": [
       "array([[1., 0., 0., 0.],\n",
       "       [0., 1., 0., 0.],\n",
       "       [0., 0., 1., 0.],\n",
       "       [0., 0., 0., 1.]])"
      ]
     },
     "execution_count": 7,
     "metadata": {},
     "output_type": "execute_result"
    }
   ],
   "source": [
    "array"
   ]
  },
  {
   "cell_type": "code",
   "execution_count": 8,
   "id": "0805df22-85a6-443e-81d1-e8538546e9cd",
   "metadata": {},
   "outputs": [],
   "source": [
    "array = np.zeros((3,2))"
   ]
  },
  {
   "cell_type": "code",
   "execution_count": 9,
   "id": "269f75d2-c2a7-492e-958c-e4bf3113b7aa",
   "metadata": {},
   "outputs": [
    {
     "data": {
      "text/plain": [
       "array([[0., 0.],\n",
       "       [0., 0.],\n",
       "       [0., 0.]])"
      ]
     },
     "execution_count": 9,
     "metadata": {},
     "output_type": "execute_result"
    }
   ],
   "source": [
    "array"
   ]
  },
  {
   "cell_type": "code",
   "execution_count": 10,
   "id": "1028d680-5c7d-4a34-9ab1-29ad50e64673",
   "metadata": {},
   "outputs": [],
   "source": [
    "array = np.arange(0, 7, 4)"
   ]
  },
  {
   "cell_type": "code",
   "execution_count": 11,
   "id": "59a2be25-bffd-4186-b180-2bb5de1d989c",
   "metadata": {},
   "outputs": [
    {
     "data": {
      "text/plain": [
       "array([0, 4])"
      ]
     },
     "execution_count": 11,
     "metadata": {},
     "output_type": "execute_result"
    }
   ],
   "source": [
    "array"
   ]
  },
  {
   "cell_type": "code",
   "execution_count": 12,
   "id": "bc049a22-2807-4899-8036-ad977aead2d0",
   "metadata": {},
   "outputs": [],
   "source": [
    "array = np.ones((2,3))"
   ]
  },
  {
   "cell_type": "code",
   "execution_count": 13,
   "id": "7e7be538-3137-4634-8026-ad1ca564bc35",
   "metadata": {},
   "outputs": [
    {
     "data": {
      "text/plain": [
       "array([[1., 1., 1.],\n",
       "       [1., 1., 1.]])"
      ]
     },
     "execution_count": 13,
     "metadata": {},
     "output_type": "execute_result"
    }
   ],
   "source": [
    "array"
   ]
  },
  {
   "cell_type": "code",
   "execution_count": 15,
   "id": "759a33f7-5c7b-4a10-8840-65a0f5ad530c",
   "metadata": {},
   "outputs": [],
   "source": [
    "array = np.random.randint(0, 8, (3,2))"
   ]
  },
  {
   "cell_type": "code",
   "execution_count": 16,
   "id": "d7746e68-626b-4f0f-b698-2460aa4ed97a",
   "metadata": {},
   "outputs": [
    {
     "name": "stdout",
     "output_type": "stream",
     "text": [
      "[[ 8.  7. 10.]\n",
      " [ 5.  3.  6.]]\n"
     ]
    }
   ],
   "source": [
    "arr = np.array([[8., 7., 10.], [5., 3., 6.]])\n",
    "print(arr)"
   ]
  },
  {
   "cell_type": "code",
   "execution_count": 17,
   "id": "b165ee4f-6dbf-4cf1-8c12-b1825ea6595c",
   "metadata": {},
   "outputs": [
    {
     "name": "stdout",
     "output_type": "stream",
     "text": [
      "[[ 64.  49. 100.]\n",
      " [ 25.   9.  36.]]\n"
     ]
    }
   ],
   "source": [
    "print(arr * arr)"
   ]
  },
  {
   "cell_type": "code",
   "execution_count": 18,
   "id": "86041dd3-5492-4bbc-92e9-4f989a470cb8",
   "metadata": {},
   "outputs": [
    {
     "name": "stdout",
     "output_type": "stream",
     "text": [
      "[[0. 0. 0.]\n",
      " [0. 0. 0.]]\n"
     ]
    }
   ],
   "source": [
    "print(arr - arr)"
   ]
  },
  {
   "cell_type": "code",
   "execution_count": 19,
   "id": "11a9ee55-1b2c-45a1-a3cd-be3fe373a48c",
   "metadata": {},
   "outputs": [
    {
     "name": "stdout",
     "output_type": "stream",
     "text": [
      "[[ 8.  7. 10.]\n",
      " [ 5.  3.  6.]]\n"
     ]
    }
   ],
   "source": [
    "arr = np.array([[8., 7., 10.], [5., 3., 6.]])\n",
    "print(arr)"
   ]
  },
  {
   "cell_type": "code",
   "execution_count": 20,
   "id": "65c3e4ad-2659-43cc-ba41-66f51d874adb",
   "metadata": {},
   "outputs": [
    {
     "name": "stdout",
     "output_type": "stream",
     "text": [
      "[[ 64.  49. 100.]\n",
      " [ 25.   9.  36.]]\n"
     ]
    }
   ],
   "source": [
    "print(arr **2)"
   ]
  },
  {
   "cell_type": "code",
   "execution_count": 21,
   "id": "de7e6184-b01a-4900-a115-5c30c7a2a151",
   "metadata": {},
   "outputs": [
    {
     "name": "stdout",
     "output_type": "stream",
     "text": [
      "[[ 6.  1.  5.]\n",
      " [10.  5. 11.]]\n"
     ]
    }
   ],
   "source": [
    "arr2 = np.array([[6., 1., 5.], [10., 5., 11.]])\n",
    "print(arr2)"
   ]
  },
  {
   "cell_type": "code",
   "execution_count": 22,
   "id": "060ec997-15c1-4d73-9e8e-1cedadc3483c",
   "metadata": {},
   "outputs": [
    {
     "name": "stdout",
     "output_type": "stream",
     "text": [
      "[[False False False]\n",
      " [ True  True  True]]\n"
     ]
    }
   ],
   "source": [
    "print(arr2 > arr)"
   ]
  },
  {
   "cell_type": "code",
   "execution_count": 23,
   "id": "4cf93c8e-be23-4423-af84-70964420f0b8",
   "metadata": {},
   "outputs": [
    {
     "name": "stdout",
     "output_type": "stream",
     "text": [
      "[ 0  1  2  3  4  5  6  7  8  9 10 11 12 13 14 15]\n"
     ]
    }
   ],
   "source": [
    "arr = np.arange(16)\n",
    "print(arr)        "
   ]
  },
  {
   "cell_type": "code",
   "execution_count": 24,
   "id": "917d42cc-3d3f-4a6d-bd2e-68647dd2b093",
   "metadata": {},
   "outputs": [
    {
     "name": "stdout",
     "output_type": "stream",
     "text": [
      "7\n"
     ]
    }
   ],
   "source": [
    "print(arr[7])   "
   ]
  },
  {
   "cell_type": "code",
   "execution_count": 25,
   "id": "9afdbf31-67b0-4bff-8229-1dc3390f5822",
   "metadata": {},
   "outputs": [
    {
     "name": "stdout",
     "output_type": "stream",
     "text": [
      "[5 6 7]\n"
     ]
    }
   ],
   "source": [
    "print(arr[5:8])"
   ]
  },
  {
   "cell_type": "code",
   "execution_count": 26,
   "id": "eb2c4b50-ca10-4a20-969c-b270c99077e6",
   "metadata": {},
   "outputs": [
    {
     "name": "stdout",
     "output_type": "stream",
     "text": [
      "[ 0  1  2  3  4 11 11 11  8  9 10 11 12 13 14 15]\n"
     ]
    }
   ],
   "source": [
    "arr[5:8] = 11\n",
    "print(arr)"
   ]
  },
  {
   "cell_type": "code",
   "execution_count": 27,
   "id": "43f197d0-d26f-419e-a084-3307dd9493c4",
   "metadata": {},
   "outputs": [
    {
     "name": "stdout",
     "output_type": "stream",
     "text": [
      "[0 1 2 3 4 5 6 7 8 9]\n"
     ]
    }
   ],
   "source": [
    "arr = np.arange(10)\n",
    "print(arr)                     "
   ]
  },
  {
   "cell_type": "code",
   "execution_count": 28,
   "id": "4caebed7-164b-455a-92d2-99a6242d8ef7",
   "metadata": {},
   "outputs": [
    {
     "name": "stdout",
     "output_type": "stream",
     "text": [
      "[5 6 7]\n"
     ]
    }
   ],
   "source": [
    "arr_slice = arr[5:8]\n",
    "print(arr_slice)"
   ]
  },
  {
   "cell_type": "code",
   "execution_count": 29,
   "id": "446fc4d6-aaab-415e-ad53-e87812ed9b53",
   "metadata": {},
   "outputs": [
    {
     "name": "stdout",
     "output_type": "stream",
     "text": [
      "[    0     1     2     3     4     5 12345     7     8     9]\n"
     ]
    }
   ],
   "source": [
    "arr_slice[1] = 12345\n",
    "print(arr)"
   ]
  },
  {
   "cell_type": "code",
   "execution_count": 30,
   "id": "31f36075-c0ba-4d48-9c02-ea5f9fa6d63c",
   "metadata": {},
   "outputs": [
    {
     "name": "stdout",
     "output_type": "stream",
     "text": [
      "[ 0  1  2  3  4 52 52 52  8  9]\n"
     ]
    }
   ],
   "source": [
    "arr_slice[:] = 52\n",
    "print(arr)"
   ]
  },
  {
   "cell_type": "code",
   "execution_count": 31,
   "id": "d5c58e2e-28ca-4a88-9f66-82ec0724fe19",
   "metadata": {},
   "outputs": [
    {
     "name": "stdout",
     "output_type": "stream",
     "text": [
      "[7 8 9]\n"
     ]
    }
   ],
   "source": [
    "arr2d = np.array([[1, 2, 3], [4, 5, 6], [7, 8, 9]])\n",
    "print(arr2d[2])       "
   ]
  },
  {
   "cell_type": "code",
   "execution_count": 33,
   "id": "264a8473-186f-463b-9600-12ee04db9119",
   "metadata": {},
   "outputs": [
    {
     "name": "stdout",
     "output_type": "stream",
     "text": [
      "3\n"
     ]
    }
   ],
   "source": [
    "print(arr2d[0][2])     "
   ]
  },
  {
   "cell_type": "code",
   "execution_count": 49,
   "id": "51284c75-fd99-4d3a-a8e4-c3626397628b",
   "metadata": {},
   "outputs": [],
   "source": [
    "arr2d = np.array([[1, 2, 3], [4, 5, 6], [7, 8, 9]])"
   ]
  },
  {
   "cell_type": "code",
   "execution_count": 54,
   "id": "6fd02ad5-fd96-4d0f-b15c-0d3dc896725a",
   "metadata": {},
   "outputs": [
    {
     "name": "stdout",
     "output_type": "stream",
     "text": [
      "[3 6 9]\n"
     ]
    }
   ],
   "source": [
    "arr2d_slice = arr2d[:, -1]\n",
    "print(arr2d_slice)"
   ]
  },
  {
   "cell_type": "code",
   "execution_count": 56,
   "id": "2d10e24a-c64b-4d54-8f0a-5c3ce604240b",
   "metadata": {},
   "outputs": [
    {
     "name": "stdout",
     "output_type": "stream",
     "text": [
      "[5 6]\n"
     ]
    }
   ],
   "source": [
    "arr2d_slice = arr2d[1, -2:]\n",
    "print(arr2d_slice)"
   ]
  }
 ],
 "metadata": {
  "kernelspec": {
   "display_name": "Python 3 (ipykernel)",
   "language": "python",
   "name": "python3"
  },
  "language_info": {
   "codemirror_mode": {
    "name": "ipython",
    "version": 3
   },
   "file_extension": ".py",
   "mimetype": "text/x-python",
   "name": "python",
   "nbconvert_exporter": "python",
   "pygments_lexer": "ipython3",
   "version": "3.12.2"
  }
 },
 "nbformat": 4,
 "nbformat_minor": 5
}
